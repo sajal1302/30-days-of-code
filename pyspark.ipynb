{
  "nbformat": 4,
  "nbformat_minor": 0,
  "metadata": {
    "colab": {
      "name": "pyspark.ipynb",
      "provenance": [],
      "collapsed_sections": [],
      "toc_visible": true,
      "authorship_tag": "ABX9TyNFSswMgNoKlwBVjDeFsjP7",
      "include_colab_link": true
    },
    "kernelspec": {
      "name": "python3",
      "display_name": "Python 3"
    },
    "language_info": {
      "name": "python"
    }
  },
  "cells": [
    {
      "cell_type": "markdown",
      "metadata": {
        "id": "view-in-github",
        "colab_type": "text"
      },
      "source": [
        "<a href=\"https://colab.research.google.com/github/sajal1302/30-days-of-code/blob/master/pyspark.ipynb\" target=\"_parent\"><img src=\"https://colab.research.google.com/assets/colab-badge.svg\" alt=\"Open In Colab\"/></a>"
      ]
    },
    {
      "cell_type": "code",
      "metadata": {
        "colab": {
          "base_uri": "https://localhost:8080/"
        },
        "id": "Nf-UfmEVW4sN",
        "outputId": "dfa81d23-75f3-4490-e540-dc9be67d8ca1"
      },
      "source": [
        "! pip install pyspark"
      ],
      "execution_count": 1,
      "outputs": [
        {
          "output_type": "stream",
          "text": [
            "Collecting pyspark\n",
            "\u001b[?25l  Downloading https://files.pythonhosted.org/packages/45/b0/9d6860891ab14a39d4bddf80ba26ce51c2f9dc4805e5c6978ac0472c120a/pyspark-3.1.1.tar.gz (212.3MB)\n",
            "\u001b[K     |████████████████████████████████| 212.3MB 71kB/s \n",
            "\u001b[?25hCollecting py4j==0.10.9\n",
            "\u001b[?25l  Downloading https://files.pythonhosted.org/packages/9e/b6/6a4fb90cd235dc8e265a6a2067f2a2c99f0d91787f06aca4bcf7c23f3f80/py4j-0.10.9-py2.py3-none-any.whl (198kB)\n",
            "\u001b[K     |████████████████████████████████| 204kB 47.4MB/s \n",
            "\u001b[?25hBuilding wheels for collected packages: pyspark\n",
            "  Building wheel for pyspark (setup.py) ... \u001b[?25l\u001b[?25hdone\n",
            "  Created wheel for pyspark: filename=pyspark-3.1.1-py2.py3-none-any.whl size=212767604 sha256=96a7e31d3bdebeb3b3abcaa260d1b255b0950a4a621568c017559f57273f9a13\n",
            "  Stored in directory: /root/.cache/pip/wheels/0b/90/c0/01de724414ef122bd05f056541fb6a0ecf47c7ca655f8b3c0f\n",
            "Successfully built pyspark\n",
            "Installing collected packages: py4j, pyspark\n",
            "Successfully installed py4j-0.10.9 pyspark-3.1.1\n"
          ],
          "name": "stdout"
        }
      ]
    },
    {
      "cell_type": "code",
      "metadata": {
        "id": "hxQnd-BJXOJb"
      },
      "source": [
        "from pyspark.sql import SparkSession"
      ],
      "execution_count": 4,
      "outputs": []
    },
    {
      "cell_type": "code",
      "metadata": {
        "id": "Dl4SsGmgFtp5"
      },
      "source": [
        "from pyspark.sql.functions import *\n",
        "from pyspark.sql.window import Window\n",
        "import logging\n",
        "logger = logging.getLogger('BCG-Use-Case')\n",
        "logger.setLevel(logging.INFO)"
      ],
      "execution_count": 158,
      "outputs": []
    },
    {
      "cell_type": "code",
      "metadata": {
        "id": "O79HURu6XOUZ"
      },
      "source": [
        "def get_spark_session():\n",
        "    spark = SparkSession.builder.appName(\"BCG-Project\").enableHiveSupport().getOrCreate()\n",
        "    return spark"
      ],
      "execution_count": 3,
      "outputs": []
    },
    {
      "cell_type": "code",
      "metadata": {
        "id": "UOOPesnsXOYD"
      },
      "source": [
        "config = { 'files' : ['Charges_use.csv' ,\n",
        "                      'Damages_use.csv' ,\n",
        "                      'Endorse_use.csv',\n",
        "                      'Primary_Person_use.csv' ,\n",
        "                      'Restrict_use.csv' ,\n",
        "                      'Units_use.csv'] ,\n",
        "          'files_loc' : '',\n",
        "          \n",
        "          'feeds':{\n",
        "              'Charges_use': {\n",
        "                  'feed_name' : 'Charges_use.csv',\n",
        "                  'feed_location' : '',\n",
        "                  'delimeter' : '',\n",
        "                  'compression' : '',\n",
        "                  \n",
        "              },\n",
        "              'Damages_use': {\n",
        "                  'feed_name' : 'Damages_use.csv',\n",
        "                  'feed_location' : '',\n",
        "                  'delimeter' : '',\n",
        "                  'compression' : '',\n",
        "                  \n",
        "              },\n",
        "              'Endorse_use': {\n",
        "                  'feed_name' : 'Damages_use.csv',\n",
        "                  'feed_location' : '',\n",
        "                  'delimeter' : '',\n",
        "                  'compression' : '',\n",
        "                  \n",
        "              },\n",
        "              'Primary_Person_use': {\n",
        "                  'feed_name' : 'Primary_Person_use.csv',\n",
        "                  'feed_location' : '',\n",
        "                  'delimeter' : '',\n",
        "                  'compression' : '',\n",
        "                  \n",
        "              },\n",
        "              'Restrict_use': {\n",
        "                  'feed_name' : 'Restrict_use.csv',\n",
        "                  'feed_location' : '',\n",
        "                  'delimeter' : '',\n",
        "                  'compression' : '',\n",
        "                  \n",
        "              },\n",
        "              'Units_use': {\n",
        "                  'feed_name' : 'Units_use.csv',\n",
        "                  'feed_location' : '',\n",
        "                  'delimeter' : '',\n",
        "                  'compression' : '',\n",
        "                  \n",
        "              }\n",
        "          }  \n",
        "    \n",
        "}"
      ],
      "execution_count": 5,
      "outputs": []
    },
    {
      "cell_type": "code",
      "metadata": {
        "id": "iZzBxexhXOfb"
      },
      "source": [
        "spark = get_spark_session()"
      ],
      "execution_count": 6,
      "outputs": []
    },
    {
      "cell_type": "code",
      "metadata": {
        "colab": {
          "base_uri": "https://localhost:8080/"
        },
        "id": "AgrtiDYys95H",
        "outputId": "45c04e65-e70a-4c35-8899-eb5ef20b72f9"
      },
      "source": [
        "from google.colab import drive\n",
        "drive.mount('/content/drive')"
      ],
      "execution_count": 8,
      "outputs": [
        {
          "output_type": "stream",
          "text": [
            "Mounted at /content/drive\n"
          ],
          "name": "stdout"
        }
      ]
    },
    {
      "cell_type": "code",
      "metadata": {
        "id": "mUudwGX3XOi-",
        "colab": {
          "base_uri": "https://localhost:8080/",
          "height": 218
        },
        "outputId": "bb2c2d53-d2fa-4ed9-8531-863010f4d550"
      },
      "source": [
        "spark"
      ],
      "execution_count": 7,
      "outputs": [
        {
          "output_type": "execute_result",
          "data": {
            "text/html": [
              "\n",
              "            <div>\n",
              "                <p><b>SparkSession - hive</b></p>\n",
              "                \n",
              "        <div>\n",
              "            <p><b>SparkContext</b></p>\n",
              "\n",
              "            <p><a href=\"http://2acd35f17c6d:4040\">Spark UI</a></p>\n",
              "\n",
              "            <dl>\n",
              "              <dt>Version</dt>\n",
              "                <dd><code>v3.1.1</code></dd>\n",
              "              <dt>Master</dt>\n",
              "                <dd><code>local[*]</code></dd>\n",
              "              <dt>AppName</dt>\n",
              "                <dd><code>BCG-Project</code></dd>\n",
              "            </dl>\n",
              "        </div>\n",
              "        \n",
              "            </div>\n",
              "        "
            ],
            "text/plain": [
              "<pyspark.sql.session.SparkSession at 0x7f32abdb2850>"
            ]
          },
          "metadata": {
            "tags": []
          },
          "execution_count": 7
        }
      ]
    },
    {
      "cell_type": "code",
      "metadata": {
        "colab": {
          "base_uri": "https://localhost:8080/"
        },
        "id": "7R9CoY9_sP6S",
        "outputId": "6d33dc26-5ef4-4f89-d420-9de1d4b6bd45"
      },
      "source": [
        "! ls drive/MyDrive/bcg/staging_files/"
      ],
      "execution_count": 15,
      "outputs": [
        {
          "output_type": "stream",
          "text": [
            "Charges_use.csv  Endorse_use.csv\t Restrict_use.csv\n",
            "Damages_use.csv  Primary_Person_use.csv  Units_use.csv\n"
          ],
          "name": "stdout"
        }
      ]
    },
    {
      "cell_type": "code",
      "metadata": {
        "colab": {
          "base_uri": "https://localhost:8080/"
        },
        "id": "IQloN1ZksQEA",
        "outputId": "529d51a8-e1af-4df8-fd84-ea40b133b73c"
      },
      "source": [
        "! ls bcg/config"
      ],
      "execution_count": 20,
      "outputs": [
        {
          "output_type": "stream",
          "text": [
            "config.json\n"
          ],
          "name": "stdout"
        }
      ]
    },
    {
      "cell_type": "code",
      "metadata": {
        "id": "5uDtNXAcws2J"
      },
      "source": [
        "import json"
      ],
      "execution_count": 21,
      "outputs": []
    },
    {
      "cell_type": "code",
      "metadata": {
        "id": "VapaijMQws-_"
      },
      "source": [
        "def load_json(file_path):\n",
        "  with open(file_path) as f:\n",
        "    config = json.load(f)\n",
        "    return config"
      ],
      "execution_count": 28,
      "outputs": []
    },
    {
      "cell_type": "code",
      "metadata": {
        "id": "YYgHC7tszNNT"
      },
      "source": [
        "bcg_conf = load_json('bcg/config/config.json')"
      ],
      "execution_count": 103,
      "outputs": []
    },
    {
      "cell_type": "code",
      "metadata": {
        "id": "kIo02bZu53mM"
      },
      "source": [
        "def load_file(bcg_conf , entity_name):\n",
        "  try :\n",
        "    feed_name = bcg_conf['feeds'][entity_name]['feed_name']\n",
        "    file_loc = bcg_conf['feeds'][entity_name]['feed_location']\n",
        "    file_format = bcg_conf['feeds'][entity_name]['file_format']\n",
        "    delimeter = bcg_conf['feeds'][entity_name]['delimeter']\n",
        "    header = bcg_conf['feeds'][entity_name]['header']\n",
        "    full_path = file_loc + feed_name\n",
        "\n",
        "    print(feed_name , file_loc , file_format, full_path )\n",
        "    df_ = spark.read.load(full_path, \n",
        "                    format= file_format, sep= delimeter, inferSchema=\"true\",\n",
        "                    header=header)\n",
        "    return df_\n",
        "\n",
        "  except:\n",
        "    logger.error(\"Check the Config for the Entity : {} \".format(entity_name))"
      ],
      "execution_count": 104,
      "outputs": []
    },
    {
      "cell_type": "code",
      "metadata": {
        "colab": {
          "base_uri": "https://localhost:8080/"
        },
        "id": "hb3AdDlT0XCP",
        "outputId": "8f0920eb-bd69-4ef8-c466-86a234c1cf80"
      },
      "source": [
        "charges_use_df = load_file(bcg_conf , 'Charges_use')"
      ],
      "execution_count": 105,
      "outputs": [
        {
          "output_type": "stream",
          "text": [
            "Charges_use.csv /content/drive/MyDrive/bcg/staging_files/ csv /content/drive/MyDrive/bcg/staging_files/Charges_use.csv\n"
          ],
          "name": "stdout"
        }
      ]
    },
    {
      "cell_type": "code",
      "metadata": {
        "id": "vSZ0cGEkFUfQ"
      },
      "source": [
        "def trim_columns(df):\n",
        "  df_ = df.select([ trim(col(colm)).alias(colm.strip()) if dtype =='string' else col(colm).alias(colm.strip()) for colm,dtype in df.dtypes ])\n",
        "  return df_"
      ],
      "execution_count": 121,
      "outputs": []
    },
    {
      "cell_type": "code",
      "metadata": {
        "id": "z6ie-U-uHC8B"
      },
      "source": [
        "charges_use_df = trim_columns(charges_use_df)"
      ],
      "execution_count": 122,
      "outputs": []
    },
    {
      "cell_type": "code",
      "metadata": {
        "colab": {
          "base_uri": "https://localhost:8080/"
        },
        "id": "WeM-9HbbIWUv",
        "outputId": "7641c351-53c4-4304-944d-64f1ebb3cdf5"
      },
      "source": [
        "charges_use_df.show(10, False)"
      ],
      "execution_count": 123,
      "outputs": [
        {
          "output_type": "stream",
          "text": [
            "+--------+--------+--------+----------------------------------------+------------+\n",
            "|CRASH_ID|UNIT_NBR|PRSN_NBR|CHARGE                                  |CITATION_NBR|\n",
            "+--------+--------+--------+----------------------------------------+------------+\n",
            "|14768622|1       |1       |DRIVING WHILE INTOXICATED               |null        |\n",
            "|14838637|1       |1       |DWI                                     |1600000015  |\n",
            "|14838641|1       |1       |RAN RED LIGHT SOLID (TC 544.007)        |L20440      |\n",
            "|14838641|2       |1       |NO DRIVER'S LICENSE (TC521.025)         |L23141      |\n",
            "|14838668|1       |1       |DRIVING WHILE INTOXICATED               |TX4IC50SRJD3|\n",
            "|14838669|2       |1       |DWI W/BAC >.015                         |2015-000006 |\n",
            "|14838670|1       |1       |DRIVING WHILE INTOXICATED               |2016-000003 |\n",
            "|14838685|1       |1       |FAILED TO DRIVE SINGLE LANE, NOL, NO INS|138434825   |\n",
            "|14838693|1       |1       |DRIVING WHILE INTOXICATED               |TX4IC60UKQND|\n",
            "|14838768|2       |1       |DWI                                     |null        |\n",
            "+--------+--------+--------+----------------------------------------+------------+\n",
            "only showing top 10 rows\n",
            "\n"
          ],
          "name": "stdout"
        }
      ]
    },
    {
      "cell_type": "code",
      "metadata": {
        "colab": {
          "base_uri": "https://localhost:8080/"
        },
        "id": "a0_katULPkq7",
        "outputId": "b27aecc3-b2de-4013-e1a3-6e7e26509196"
      },
      "source": [
        "damages_use_df = load_file(bcg_conf , 'Damages_use')\n"
      ],
      "execution_count": 116,
      "outputs": [
        {
          "output_type": "stream",
          "text": [
            "Damages_use.csv /content/drive/MyDrive/bcg/staging_files/ csv /content/drive/MyDrive/bcg/staging_files/Damages_use.csv\n"
          ],
          "name": "stdout"
        }
      ]
    },
    {
      "cell_type": "code",
      "metadata": {
        "colab": {
          "base_uri": "https://localhost:8080/"
        },
        "id": "4GgQOW0_Pks0",
        "outputId": "b4a9a8d0-86a0-48e6-b639-08147af11827"
      },
      "source": [
        "charges_use_df = trim_columns(load_file(bcg_conf , 'Charges_use'))\n",
        "damages_use_df = trim_columns(load_file(bcg_conf , 'Damages_use'))\n",
        "endorse_use_df = trim_columns(load_file(bcg_conf , 'Endorse_use'))\n",
        "primary_person_use_df = trim_columns(load_file(bcg_conf , 'Primary_Person_use'))\n",
        "restrict_use_df = trim_columns(load_file(bcg_conf , 'Restrict_use'))\n",
        "units_use_df = trim_columns(load_file(bcg_conf , 'Units_use'))"
      ],
      "execution_count": 124,
      "outputs": [
        {
          "output_type": "stream",
          "text": [
            "Charges_use.csv /content/drive/MyDrive/bcg/staging_files/ csv /content/drive/MyDrive/bcg/staging_files/Charges_use.csv\n",
            "Damages_use.csv /content/drive/MyDrive/bcg/staging_files/ csv /content/drive/MyDrive/bcg/staging_files/Damages_use.csv\n",
            "Damages_use.csv /content/drive/MyDrive/bcg/staging_files/ csv /content/drive/MyDrive/bcg/staging_files/Damages_use.csv\n",
            "Primary_Person_use.csv /content/drive/MyDrive/bcg/staging_files/ csv /content/drive/MyDrive/bcg/staging_files/Primary_Person_use.csv\n",
            "Restrict_use.csv /content/drive/MyDrive/bcg/staging_files/ csv /content/drive/MyDrive/bcg/staging_files/Restrict_use.csv\n",
            "Units_use.csv /content/drive/MyDrive/bcg/staging_files/ csv /content/drive/MyDrive/bcg/staging_files/Units_use.csv\n"
          ],
          "name": "stdout"
        }
      ]
    },
    {
      "cell_type": "code",
      "metadata": {
        "colab": {
          "base_uri": "https://localhost:8080/"
        },
        "id": "ZKy9OR_LWEp8",
        "outputId": "3d534592-30d9-4e78-8333-4f07a4e3da56"
      },
      "source": [
        "primary_person_use_df.show(10, False)"
      ],
      "execution_count": 125,
      "outputs": [
        {
          "output_type": "stream",
          "text": [
            "+--------+--------+--------+------------+------------------+-------------------------+--------+-----------------+------------+------------+-------------------+-----------------+--------------+-----------+---------------------+----------------+------------------+---------------------+----------------+-----------------+---------------+---------------+------------------+--------------+-------------+--------------+-------------+---------+----------------------+-----------------+------------------+--------+\n",
            "|CRASH_ID|UNIT_NBR|PRSN_NBR|PRSN_TYPE_ID|PRSN_OCCPNT_POS_ID|PRSN_INJRY_SEV_ID        |PRSN_AGE|PRSN_ETHNICITY_ID|PRSN_GNDR_ID|PRSN_EJCT_ID|PRSN_REST_ID       |PRSN_AIRBAG_ID   |PRSN_HELMET_ID|PRSN_SOL_FL|PRSN_ALC_SPEC_TYPE_ID|PRSN_ALC_RSLT_ID|PRSN_BAC_TEST_RSLT|PRSN_DRG_SPEC_TYPE_ID|PRSN_DRG_RSLT_ID|DRVR_DRG_CAT_1_ID|PRSN_DEATH_TIME|INCAP_INJRY_CNT|NONINCAP_INJRY_CNT|POSS_INJRY_CNT|NON_INJRY_CNT|UNKN_INJRY_CNT|TOT_INJRY_CNT|DEATH_CNT|DRVR_LIC_TYPE_ID      |DRVR_LIC_STATE_ID|DRVR_LIC_CLS_ID   |DRVR_ZIP|\n",
            "+--------+--------+--------+------------+------------------+-------------------------+--------+-----------------+------------+------------+-------------------+-----------------+--------------+-----------+---------------------+----------------+------------------+---------------------+----------------+-----------------+---------------+---------------+------------------+--------------+-------------+--------------+-------------+---------+----------------------+-----------------+------------------+--------+\n",
            "|14768622|1       |1       |DRIVER      |FRONT LEFT        |NOT INJURED              |27      |HISPANIC         |MALE        |NO          |NONE               |DEPLOYED MULTIPLE|NOT APPLICABLE|N          |BLOOD                |Positive        |0.225             |NONE                 |NOT APPLICABLE  |NOT APPLICABLE   |null           |0              |0                 |0             |1            |0             |0            |0        |DRIVER LICENSE        |Texas            |CLASS C           |77357   |\n",
            "|14838637|1       |1       |DRIVER      |FRONT LEFT        |NOT INJURED              |31      |WHITE            |MALE        |NO          |SHOULDER & LAP BELT|NOT DEPLOYED     |NOT APPLICABLE|N          |BREATH               |Positive        |0.21              |NONE                 |NOT APPLICABLE  |NOT APPLICABLE   |null           |0              |0                 |0             |1            |0             |0            |0        |DRIVER LICENSE        |New York         |OTHER/OUT OF STATE|13830   |\n",
            "|14838637|2       |1       |DRIVER      |FRONT LEFT        |NOT INJURED              |41      |BLACK            |MALE        |NO          |SHOULDER & LAP BELT|NOT DEPLOYED     |NOT APPLICABLE|N          |NONE                 |NA              |NA                |NONE                 |NOT APPLICABLE  |NOT APPLICABLE   |null           |0              |0                 |0             |1            |0             |0            |0        |COMMERCIAL DRIVER LIC.|Texas            |CLASS A           |78934   |\n",
            "|14838641|1       |1       |DRIVER      |FRONT LEFT        |POSSIBLE INJURY          |32      |WHITE            |MALE        |NO          |SHOULDER & LAP BELT|DEPLOYED MULTIPLE|NOT APPLICABLE|N          |NONE                 |NA              |NA                |NONE                 |NOT APPLICABLE  |NOT APPLICABLE   |null           |0              |0                 |1             |0            |0             |1            |0        |DRIVER LICENSE        |Texas            |CLASS C           |76520   |\n",
            "|14838641|2       |1       |DRIVER      |FRONT LEFT        |NON-INCAPACITATING INJURY|34      |BLACK            |FEMALE      |NO          |SHOULDER & LAP BELT|DEPLOYED MULTIPLE|NOT APPLICABLE|N          |NONE                 |NA              |NA                |NONE                 |NOT APPLICABLE  |NOT APPLICABLE   |null           |0              |1                 |0             |0            |0             |1            |0        |ID CARD               |Texas            |UNLICENSED        |76707   |\n",
            "|14838668|1       |1       |DRIVER      |FRONT LEFT        |NOT INJURED              |24      |HISPANIC         |MALE        |NO          |SHOULDER & LAP BELT|DEPLOYED, FRONT  |NOT APPLICABLE|N          |BREATH               |Positive        |0.178             |NONE                 |NOT APPLICABLE  |NOT APPLICABLE   |null           |0              |0                 |0             |1            |0             |0            |0        |DRIVER LICENSE        |Texas            |CLASS C           |78076   |\n",
            "|14838669|1       |1       |DRIVER      |FRONT LEFT        |NOT INJURED              |53      |WHITE            |MALE        |NO          |SHOULDER & LAP BELT|NOT DEPLOYED     |NOT APPLICABLE|N          |NONE                 |NA              |NA                |NONE                 |NOT APPLICABLE  |NOT APPLICABLE   |null           |0              |0                 |0             |1            |0             |0            |0        |DRIVER LICENSE        |Texas            |CLASS C           |76053   |\n",
            "|14838669|2       |1       |DRIVER      |FRONT LEFT        |NOT INJURED              |24      |WHITE            |MALE        |NO          |UNKNOWN            |DEPLOYED, FRONT  |NOT APPLICABLE|N          |BREATH               |Positive        |0.219             |NONE                 |NOT APPLICABLE  |NOT APPLICABLE   |null           |0              |0                 |0             |1            |0             |0            |0        |DRIVER LICENSE        |Texas            |CLASS C           |76118   |\n",
            "|14838670|1       |1       |DRIVER      |FRONT LEFT        |NOT INJURED              |23      |WHITE            |MALE        |NO          |NONE               |NOT DEPLOYED     |NOT APPLICABLE|N          |BLOOD                |Positive        |0.16              |BLOOD                |UNKNOWN         |UNKNOWN          |null           |0              |0                 |0             |1            |0             |0            |0        |DRIVER LICENSE        |Texas            |CLASS C           |75050   |\n",
            "|14838685|1       |1       |DRIVER      |FRONT LEFT        |NOT INJURED              |27      |BLACK            |FEMALE      |NO          |SHOULDER & LAP BELT|NOT DEPLOYED     |NOT APPLICABLE|N          |NONE                 |NA              |NA                |NONE                 |NOT APPLICABLE  |NOT APPLICABLE   |null           |0              |0                 |0             |1            |0             |0            |0        |ID CARD               |Texas            |UNLICENSED        |77033   |\n",
            "+--------+--------+--------+------------+------------------+-------------------------+--------+-----------------+------------+------------+-------------------+-----------------+--------------+-----------+---------------------+----------------+------------------+---------------------+----------------+-----------------+---------------+---------------+------------------+--------------+-------------+--------------+-------------+---------+----------------------+-----------------+------------------+--------+\n",
            "only showing top 10 rows\n",
            "\n"
          ],
          "name": "stdout"
        }
      ]
    },
    {
      "cell_type": "code",
      "metadata": {
        "id": "2tJumspebR6f"
      },
      "source": [
        "lcp = [colms.lower() for colms in primary_person_use_df.columns]"
      ],
      "execution_count": 141,
      "outputs": []
    },
    {
      "cell_type": "code",
      "metadata": {
        "colab": {
          "base_uri": "https://localhost:8080/"
        },
        "id": "fEZe4JVUbcSy",
        "outputId": "3081fafa-1a06-4fae-8c7c-7f2c5f6a08be"
      },
      "source": [
        "print(lcp)"
      ],
      "execution_count": 142,
      "outputs": [
        {
          "output_type": "stream",
          "text": [
            "['crash_id', 'unit_nbr', 'prsn_nbr', 'prsn_type_id', 'prsn_occpnt_pos_id', 'prsn_injry_sev_id', 'prsn_age', 'prsn_ethnicity_id', 'prsn_gndr_id', 'prsn_ejct_id', 'prsn_rest_id', 'prsn_airbag_id', 'prsn_helmet_id', 'prsn_sol_fl', 'prsn_alc_spec_type_id', 'prsn_alc_rslt_id', 'prsn_bac_test_rslt', 'prsn_drg_spec_type_id', 'prsn_drg_rslt_id', 'drvr_drg_cat_1_id', 'prsn_death_time', 'incap_injry_cnt', 'nonincap_injry_cnt', 'poss_injry_cnt', 'non_injry_cnt', 'unkn_injry_cnt', 'tot_injry_cnt', 'death_cnt', 'drvr_lic_type_id', 'drvr_lic_state_id', 'drvr_lic_cls_id', 'drvr_zip']\n"
          ],
          "name": "stdout"
        }
      ]
    },
    {
      "cell_type": "code",
      "metadata": {
        "colab": {
          "base_uri": "https://localhost:8080/"
        },
        "id": "cGgy3JoCWEs-",
        "outputId": "056d6bdf-8655-4cbc-819c-2fdb92a2303c"
      },
      "source": [
        "\n",
        "primary_person_use_df.select(count('*'),count(col('crash_id')),\n",
        "                             countDistinct(col('crash_id')),\n",
        "                             sum(when(lower(col('prsn_injry_sev_id')) == 'killed',1).otherwise(0)),\n",
        "\n",
        "                             sum(col('death_cnt'))\n",
        "                             ).show(10, False)"
      ],
      "execution_count": 144,
      "outputs": [
        {
          "output_type": "stream",
          "text": [
            "+--------+---------------+------------------------+--------------------------------------------------------------------+--------------+\n",
            "|count(1)|count(crash_id)|count(DISTINCT crash_id)|sum(CASE WHEN (lower(prsn_injry_sev_id) = killed) THEN 1 ELSE 0 END)|sum(death_cnt)|\n",
            "+--------+---------------+------------------------+--------------------------------------------------------------------+--------------+\n",
            "|156954  |156954         |83805                   |246                                                                 |246           |\n",
            "+--------+---------------+------------------------+--------------------------------------------------------------------+--------------+\n",
            "\n"
          ],
          "name": "stdout"
        }
      ]
    },
    {
      "cell_type": "code",
      "metadata": {
        "colab": {
          "base_uri": "https://localhost:8080/"
        },
        "id": "bLLw8eZRWEwf",
        "outputId": "c718f7db-91c3-4560-e233-be95405b5492"
      },
      "source": [
        "# Analysis 1\n",
        "primary_person_use_df.where((lower(col('prsn_injry_sev_id')) == 'killed') & (lower(col('prsn_gndr_id')) == 'male'))\\\n",
        ".select(col('crash_id')).distinct().count()"
      ],
      "execution_count": 136,
      "outputs": [
        {
          "output_type": "execute_result",
          "data": {
            "text/plain": [
              "180"
            ]
          },
          "metadata": {
            "tags": []
          },
          "execution_count": 136
        }
      ]
    },
    {
      "cell_type": "code",
      "metadata": {
        "id": "uVS0fjNgdFLT"
      },
      "source": [
        ""
      ],
      "execution_count": null,
      "outputs": []
    },
    {
      "cell_type": "code",
      "metadata": {
        "id": "GkjjkzAjdFUU"
      },
      "source": [
        ""
      ],
      "execution_count": null,
      "outputs": []
    },
    {
      "cell_type": "code",
      "metadata": {
        "id": "2Z15qFJNj2TW"
      },
      "source": [
        ""
      ],
      "execution_count": 152,
      "outputs": []
    },
    {
      "cell_type": "code",
      "metadata": {
        "colab": {
          "base_uri": "https://localhost:8080/"
        },
        "id": "527zZW9AkQ3J",
        "outputId": "b7c73c48-c723-44a3-bbad-be0c9f0846b4"
      },
      "source": [
        "# Analysis 3\n",
        "\n",
        "fem_crash_state_df = primary_person_use_df.where((lower(col('prsn_gndr_id')) == 'female') \n",
        "                  & (~ lower(col('drvr_lic_state_id')).isin('na', 'unknown')))\\\n",
        "                    .groupBy(lower(col('drvr_lic_state_id')).alias('drvr_lic_state_id'))\\\n",
        "                      .agg(countDistinct(col('crash_id')).alias(\"num_crashes\")).orderBy(col(\"num_crashes\").desc())\n",
        "\n",
        "window_crash_rank = Window.orderBy(col('num_crashes').desc())\n",
        "\n",
        "max_female_crash_state_df =fem_crash_state_df.withColumn(\"rank\", rank().over(window_crash_rank))\\\n",
        ".where(\"rank = 1\").select(col('drvr_lic_state_id').alias(\"max_female_crash_state\"))\n",
        "\n",
        "max_female_crash_state_df.show(10, False)"
      ],
      "execution_count": 157,
      "outputs": [
        {
          "output_type": "stream",
          "text": [
            "+----------------------+\n",
            "|max_female_crash_state|\n",
            "+----------------------+\n",
            "|texas                 |\n",
            "+----------------------+\n",
            "\n"
          ],
          "name": "stdout"
        }
      ]
    },
    {
      "cell_type": "code",
      "metadata": {
        "id": "CusZl1SBk12U"
      },
      "source": [
        ""
      ],
      "execution_count": 154,
      "outputs": []
    },
    {
      "cell_type": "code",
      "metadata": {
        "colab": {
          "base_uri": "https://localhost:8080/"
        },
        "id": "dY4Sn9A9lO3z",
        "outputId": "5e2931d7-90dc-42dd-bf03-d879d65a6a0d"
      },
      "source": [
        ""
      ],
      "execution_count": 156,
      "outputs": [
        {
          "output_type": "stream",
          "text": [
            "+----------------------+\n",
            "|max_female_crash_state|\n",
            "+----------------------+\n",
            "|texas                 |\n",
            "+----------------------+\n",
            "\n"
          ],
          "name": "stdout"
        }
      ]
    }
  ]
}